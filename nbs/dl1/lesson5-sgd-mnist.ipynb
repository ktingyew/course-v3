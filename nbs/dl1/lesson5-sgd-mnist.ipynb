{
 "cells": [
  {
   "cell_type": "code",
   "execution_count": 15,
   "metadata": {},
   "outputs": [],
   "source": [
    "%matplotlib inline\n",
    "from fastai.basics import *"
   ]
  },
  {
   "cell_type": "markdown",
   "metadata": {},
   "source": [
    "## MNIST SGD"
   ]
  },
  {
   "cell_type": "markdown",
   "metadata": {},
   "source": [
    "Get the 'pickled' MNIST dataset from http://deeplearning.net/data/mnist/mnist.pkl.gz. We're going to treat it as a standard flat dataset with fully connected layers, rather than using a CNN."
   ]
  },
  {
   "cell_type": "code",
   "execution_count": 16,
   "metadata": {},
   "outputs": [],
   "source": [
    "path = Config().data_path()/'mnist'"
   ]
  },
  {
   "cell_type": "code",
   "execution_count": 17,
   "metadata": {},
   "outputs": [
    {
     "data": {
      "text/plain": [
       "[WindowsPath('C:/Users/kting/.fastai/data/mnist/mnist.pkl.gz')]"
      ]
     },
     "execution_count": 17,
     "metadata": {},
     "output_type": "execute_result"
    }
   ],
   "source": [
    "path.ls()"
   ]
  },
  {
   "cell_type": "code",
   "execution_count": 18,
   "metadata": {},
   "outputs": [],
   "source": [
    "with gzip.open(path/'mnist.pkl.gz', 'rb') as f:\n",
    "    ((x_train, y_train), (x_valid, y_valid), _) = pickle.load(f, encoding='latin-1')\n",
    "# The underscore, '_', is actually referring to the test set. Here, we don't care about it, so we give it an underscore."
   ]
  },
  {
   "cell_type": "code",
   "execution_count": 19,
   "metadata": {},
   "outputs": [
    {
     "data": {
      "text/plain": [
       "(50000, 784)"
      ]
     },
     "execution_count": 19,
     "metadata": {},
     "output_type": "execute_result"
    }
   ],
   "source": [
    "x_train.shape"
   ]
  },
  {
   "cell_type": "markdown",
   "metadata": {},
   "source": [
    "Note `x_train`'s shape. `50000` refers to the number of digits (test examples). 784 is the number of pixels per digit.\n",
    "\n",
    "Interestingly, the MNIST images (along with their labels, y) that we downloaded are stored in a `numpy`-array format, instead of actual images (like jpg) that one might expect. You should be able to deduce anyway, when we download the .pickle file. Pickle files are just `numpy` arrays. "
   ]
  },
  {
   "cell_type": "code",
   "execution_count": 20,
   "metadata": {},
   "outputs": [
    {
     "data": {
      "text/plain": [
       "<matplotlib.image.AxesImage at 0x2b9d5842080>"
      ]
     },
     "execution_count": 20,
     "metadata": {},
     "output_type": "execute_result"
    },
    {
     "data": {
      "image/png": "[encoded data removed]",
      "text/plain": [
       "<Figure size 432x288 with 1 Axes>"
      ]
     },
     "metadata": {
      "needs_background": "light"
     },
     "output_type": "display_data"
    }
   ],
   "source": [
    "plt.imshow(x_train[0].reshape((28,28)), cmap=\"gray\") # reshaped to 28x28 square to plot. But anyway, we'll be using it flat."
   ]
  },
  {
   "cell_type": "code",
   "execution_count": 21,
   "metadata": {},
   "outputs": [
    {
     "data": {
      "text/plain": [
       "(tensor(0), tensor(9))"
      ]
     },
     "execution_count": 21,
     "metadata": {},
     "output_type": "execute_result"
    }
   ],
   "source": [
    "x_train,y_train,x_valid,y_valid = map(torch.tensor, (x_train,y_train,x_valid,y_valid)) # convert them to tensors\n",
    "n,c = x_train.shape # n,c = 50000, 784\n",
    "y_train.min(), y_train.max() # Just to show that the labels are digits. 0 to 9."
   ]
  },
  {
   "cell_type": "markdown",
   "metadata": {},
   "source": [
    "In lesson2-sgd we did these things ourselves:\n",
    "\n",
    "```python\n",
    "x = torch.ones(n,2) \n",
    "def mse(y_hat, y): return ((y_hat-y)**2).mean()\n",
    "y_hat = x@a\n",
    "```\n",
    "\n",
    "Now instead we'll use PyTorch's functions to do it for us, and also to handle mini-batches (which we didn't do last time, since our dataset was so small)."
   ]
  },
  {
   "cell_type": "code",
   "execution_count": 22,
   "metadata": {},
   "outputs": [],
   "source": [
    "bs=64\n",
    "# A TensorDataset is something which you can index into, and obtain a x value and its corresponding y.\n",
    "train_ds = TensorDataset(x_train, y_train) \n",
    "valid_ds = TensorDataset(x_valid, y_valid)\n",
    "\n",
    "# We create a DataBunch called data. Looking at the src code, it basically shuffles the train and valid ds, and loads stuff into GPU.\n",
    "data = DataBunch.create(train_ds, valid_ds, bs=bs) "
   ]
  },
  {
   "cell_type": "code",
   "execution_count": 27,
   "metadata": {},
   "outputs": [],
   "source": [
    "doc(DataBunch.create)"
   ]
  },
  {
   "cell_type": "code",
   "execution_count": 26,
   "metadata": {},
   "outputs": [
    {
     "data": {
      "text/plain": [
       "(torch.Size([64, 784]), torch.Size([64]))"
      ]
     },
     "execution_count": 26,
     "metadata": {},
     "output_type": "execute_result"
    }
   ],
   "source": [
    "# We obtain the DataLoader from the DataBunch. It's like a generator. Calling next() on the dl returns the next batch\n",
    "# of size bs. We can verify that a batch of the correct size is returned below.\n",
    "x,y = next(iter(data.train_dl)) \n",
    "x.shape,y.shape"
   ]
  },
  {
   "cell_type": "code",
   "execution_count": 30,
   "metadata": {},
   "outputs": [],
   "source": [
    "# Basically extending the nn.Module class.\n",
    "\n",
    "class Mnist_Logistic(nn.Module):\n",
    "    def __init__(self):\n",
    "        super().__init__() # Inheriting the superclass constructor.\n",
    "        self.lin = nn.Linear(784, 10, bias=True) # Create a new attribute that stores a 'Linear' module. \n",
    "        # It does the a@x + b. See `def forward`.\n",
    "\n",
    "    def forward(self, xb): \n",
    "        return self.lin(xb) # The nn.linear instantiation somehow becomes a function that returns the linear product. Somehow.\n",
    "    # 'xb' refers to the mini-batch of x. Which a bs-sized of training examples (e.g. 32, 64 of these images). "
   ]
  },
  {
   "cell_type": "markdown",
   "metadata": {},
   "source": [
    "So this is a logistic regression model. A logistic regression model is also known as a neural net with no hidden layers, so it's a one layer neural net, no nonlinearities.\n",
    "\n",
    "Because we're doing stuff ourself a little bit we have to put the weight matrices (i.e. the parameters) onto the GPU manually. So just type `.cuda()` to do that."
   ]
  },
  {
   "cell_type": "code",
   "execution_count": 31,
   "metadata": {},
   "outputs": [],
   "source": [
    "model = Mnist_Logistic().cuda()"
   ]
  },
  {
   "cell_type": "code",
   "execution_count": 32,
   "metadata": {},
   "outputs": [
    {
     "data": {
      "text/plain": [
       "Mnist_Logistic(\n",
       "  (lin): Linear(in_features=784, out_features=10, bias=True)\n",
       ")"
      ]
     },
     "execution_count": 32,
     "metadata": {},
     "output_type": "execute_result"
    }
   ],
   "source": [
    "model"
   ]
  },
  {
   "cell_type": "code",
   "execution_count": 33,
   "metadata": {},
   "outputs": [
    {
     "data": {
      "text/plain": [
       "Linear(in_features=784, out_features=10, bias=True)"
      ]
     },
     "execution_count": 33,
     "metadata": {},
     "output_type": "execute_result"
    }
   ],
   "source": [
    "model.lin"
   ]
  },
  {
   "cell_type": "code",
   "execution_count": 34,
   "metadata": {},
   "outputs": [
    {
     "data": {
      "text/plain": [
       "torch.Size([64, 10])"
      ]
     },
     "execution_count": 34,
     "metadata": {},
     "output_type": "execute_result"
    }
   ],
   "source": [
    "model(x).shape"
   ]
  },
  {
   "cell_type": "code",
   "execution_count": 35,
   "metadata": {},
   "outputs": [
    {
     "data": {
      "text/plain": [
       "[torch.Size([10, 784]), torch.Size([10])]"
      ]
     },
     "execution_count": 35,
     "metadata": {},
     "output_type": "execute_result"
    }
   ],
   "source": [
    "[p.shape for p in model.parameters()]"
   ]
  },
  {
   "cell_type": "markdown",
   "metadata": {},
   "source": [
    "`out_features` is 10. That's the `[10, 784]`. Recall that our model, given a test example of 1D vector of size 784, through the weight matrix, is to spit out a 1D vector of size 10. This represents the probability distribution of the digits from 0-9.\n",
    "\n",
    "It should make sense that the weight matrix should be of size 10-by-784.\n",
    "\n",
    "`Weight * x = prediction - > [10, 784] * [784, 1] = [10, 1]`\n",
    "\n",
    "__I have been ommiting the biases. The full expression conveyed in the previous cell should be:__\n",
    "\n",
    "`Weight * x + biases = prediction -> [10, 784] * [784, 1] + [10, 1] = [10, 1]`"
   ]
  },
  {
   "cell_type": "markdown",
   "metadata": {},
   "source": [
    "For loss function, it does not make sense to use MSE because the prediction is categorical. To give an example, let's say target = 3, and prediction = 4. Using MSE would be like saying that your model's prediction is close, since it's only 1 number away. And whereas if you had predicted 9 instead, then your loss would be higher. Which as said, does not make sense because a wrong guess is a wrong guess, no matter how close your prediction is to the actual target. So that's why we have to consider the model's prediction's probability distribution instead, which is Cross Entropy Loss."
   ]
  },
  {
   "cell_type": "code",
   "execution_count": 37,
   "metadata": {},
   "outputs": [],
   "source": [
    "loss_func = nn.CrossEntropyLoss()"
   ]
  },
  {
   "cell_type": "code",
   "execution_count": 43,
   "metadata": {},
   "outputs": [],
   "source": [
    "def update(x,y,lr):\n",
    "    # Given a batch of training examples, and lr, compute the loss' gradient, to update the parameters. And return the loss value.\n",
    "    # To understand this function, it helps to work through with ONE training example in mind, rather than a batch of them.\n",
    "    \n",
    "    # Weight decay\n",
    "    wd = 1e-5\n",
    "    \n",
    "    # Prediction\n",
    "    y_hat = model(x) # Somehow (again), you can treat your model as a function that can take in x and returns the prediction.\n",
    "    \n",
    "    # weight squared. Sum of all weights squared. Will be multiplied by wd. This is for regularisation. Which is to avoid overfitting.\n",
    "    w2 = 0.\n",
    "    for p in model.parameters(): w2 += (p**2).sum()\n",
    "        \n",
    "    # add to regular loss\n",
    "    loss = loss_func(y_hat, y) + w2*wd\n",
    "    \n",
    "    # Calculate the gradient of the loss function.\n",
    "    loss.backward()\n",
    "    \n",
    "    with torch.no_grad(): # Basically, call torch.no_grad()\n",
    "        for p in model.parameters(): # for each parameter of ALL parameters, perform the following:\n",
    "            p.sub_(lr * p.grad) # Gradient descent. Subtraction is performed inplace.\n",
    "            p.grad.zero_()\n",
    "    return loss.item() # return a normal python number."
   ]
  },
  {
   "cell_type": "code",
   "execution_count": 39,
   "metadata": {},
   "outputs": [],
   "source": [
    "lr=2e-2\n",
    "losses = [update(x,y,lr) for x,y in data.train_dl]"
   ]
  },
  {
   "cell_type": "code",
   "execution_count": 42,
   "metadata": {},
   "outputs": [
    {
     "data": {
      "image/png": "[encoded data removed]",
      "text/plain": [
       "<Figure size 432x288 with 1 Axes>"
      ]
     },
     "metadata": {
      "needs_background": "light"
     },
     "output_type": "display_data"
    }
   ],
   "source": [
    "plt.plot(losses);"
   ]
  },
  {
   "cell_type": "markdown",
   "metadata": {},
   "source": [
    "__Interesting things of note from above graph:__\n",
    "\n",
    "1. The x-axis represents the number of batches processed thus far. Recall in each batch, the no. of training examples in it is 64. `update()` works on one batch at a time, following which updates the parameters on the model, for subsequent batches. The loss value should thus drop, as it did above. Essentially, what we did was one epoch. The model only sees each training example _once_.\n",
    "\n",
    "2. Notice that the loss value flucutates more and more wildly towards the end. As the training converges to some minima, you can imagine the space as becoming more and more flat, and thus each gradient descent step makes the same-sized step towards the negative gradient direction (since `lr` is fixed), but since the space is already quite flat so it overshoots the actual minima often. By right, `lr` should decrease as we converge (**learning rate annealing**), but since it didn't, so it will spend steps every now and then to correct itself, resulting in this back-and-forth of loss value."
   ]
  },
  {
   "cell_type": "markdown",
   "metadata": {},
   "source": [
    "## Before it's logistic regression, now it's neural network - add one more layer"
   ]
  },
  {
   "cell_type": "markdown",
   "metadata": {},
   "source": [
    "### Basic SGD"
   ]
  },
  {
   "cell_type": "code",
   "execution_count": 45,
   "metadata": {},
   "outputs": [],
   "source": [
    "class Mnist_NN(nn.Module):\n",
    "    def __init__(self):\n",
    "        super().__init__()\n",
    "        self.lin1 = nn.Linear(784, 50, bias=True) # 50 is just arbitrary for our first hidden layer\n",
    "        self.lin2 = nn.Linear(50, 10, bias=True) # We want output layer to be size 10. So we fix our second layer as (50, 10)\n",
    "\n",
    "    def forward(self, xb):\n",
    "        x = self.lin1(xb)\n",
    "        x = F.relu(x) # relu between the first and second linear layer\n",
    "        return self.lin2(x)"
   ]
  },
  {
   "cell_type": "code",
   "execution_count": 46,
   "metadata": {},
   "outputs": [],
   "source": [
    "model = Mnist_NN().cuda()"
   ]
  },
  {
   "cell_type": "code",
   "execution_count": 47,
   "metadata": {},
   "outputs": [],
   "source": [
    "losses = [update(x,y,lr) for x,y in data.train_dl] # we use update() from our Mnist_logistic from earlier"
   ]
  },
  {
   "cell_type": "code",
   "execution_count": 48,
   "metadata": {},
   "outputs": [
    {
     "data": {
      "image/png": "[encoded data removed]",
      "text/plain": [
       "<Figure size 432x288 with 1 Axes>"
      ]
     },
     "metadata": {
      "needs_background": "light"
     },
     "output_type": "display_data"
    }
   ],
   "source": [
    "plt.plot(losses);"
   ]
  },
  {
   "cell_type": "markdown",
   "metadata": {},
   "source": [
    "### Adam Gradient Descent"
   ]
  },
  {
   "cell_type": "code",
   "execution_count": 66,
   "metadata": {},
   "outputs": [],
   "source": [
    "model = Mnist_NN().cuda()"
   ]
  },
  {
   "cell_type": "code",
   "execution_count": 67,
   "metadata": {},
   "outputs": [],
   "source": [
    "def update(x,y,lr):\n",
    "    opt = optim.Adam(model.parameters(), lr) # an alternative is optim.SGD(model.parameters(), lr), which is what we did before.\n",
    "    y_hat = model(x)\n",
    "    loss = loss_func(y_hat, y) # loss_func = nn.CrossEntropyLoss()\n",
    "    loss.backward()\n",
    "    opt.step()\n",
    "    opt.zero_grad()\n",
    "    return loss.item()"
   ]
  },
  {
   "cell_type": "markdown",
   "metadata": {},
   "source": [
    "Comparing this `update()` with the earlier one (logistic regression), you can see that this one uses more \"PyTorch stuff\" - i.e. their convienence functions. \n",
    "\n",
    "Specifically, there's this `Adam` thing. This is another way to perform gradient descent, implemented by PyTorch.\n",
    "\n",
    "`wd` is handled internally, somewhere. Don't worry about it."
   ]
  },
  {
   "cell_type": "code",
   "execution_count": 68,
   "metadata": {},
   "outputs": [],
   "source": [
    "# Earlier, the lr is 2e-2. This is too big for Adam; our loss will diverge. So we decrease.\n",
    "# You can try it yourself. Note that when you change learning rate to inspect differences, you have to retrain the model from\n",
    "# scratch. If you do 2e-2 beforehand, the parameters are trained to be fked up. And if you lower lr to 1e-3 AND you train on\n",
    "# top of it, it's not gonna change a thing, cos as I said, the parameters are too chaotic and is not going to come back.\n",
    "# So, recreate the model: rerun model = Mnist_NN().cuda().\n",
    "\n",
    "lr = 1e-3 \n",
    "losses = [update(x, y, lr) for x,y in data.train_dl]"
   ]
  },
  {
   "cell_type": "code",
   "execution_count": 69,
   "metadata": {
    "scrolled": true
   },
   "outputs": [
    {
     "data": {
      "image/png": "[encoded data removed]",
      "text/plain": [
       "<Figure size 432x288 with 1 Axes>"
      ]
     },
     "metadata": {
      "needs_background": "light"
     },
     "output_type": "display_data"
    }
   ],
   "source": [
    "plt.plot(losses);"
   ]
  },
  {
   "cell_type": "markdown",
   "metadata": {},
   "source": [
    "Compare this graph (ADAM) with the one earlier (basic SGD). Notice how in this one, the loss drops way faster, hovering around 0.5 in like 15% of the batches it took for the latter.\n",
    "\n",
    "So, we can see how ADAM's momentum and exponentinally weighted moving average of the gradient (of the loss fn) sqaured can do a lot to adjust to adjust the parameters quickly s.t. the loss function is at a minimum quickly."
   ]
  },
  {
   "cell_type": "markdown",
   "metadata": {},
   "source": [
    "## Neural Network using Fastai \n",
    "\n",
    "TY - They also use Adam for gradient descent strategy, but with some possible minor tweaks. But main thing is: it's pretty much the same core implementation as the one we demonstrated (PyTorch framework) earlier, plus some more tuning. But this tuning that Fastai provides (in its `Learner` construct), it's actually offers a lot of yields."
   ]
  },
  {
   "cell_type": "code",
   "execution_count": 75,
   "metadata": {},
   "outputs": [],
   "source": [
    "learn = Learner(data, Mnist_NN(), loss_func=loss_func, metrics=accuracy)"
   ]
  },
  {
   "cell_type": "code",
   "execution_count": 71,
   "metadata": {
    "scrolled": false
   },
   "outputs": [
    {
     "data": {
      "text/html": [
       "\n",
       "    <div>\n",
       "        <style>\n",
       "            /* Turns off some styling */\n",
       "            progress {\n",
       "                /* gets rid of default border in Firefox and Opera. */\n",
       "                border: none;\n",
       "                /* Needs to be in here for Safari polyfill so background images work as expected. */\n",
       "                background-size: auto;\n",
       "            }\n",
       "            .progress-bar-interrupted, .progress-bar-interrupted::-webkit-progress-bar {\n",
       "                background: #F44336;\n",
       "            }\n",
       "        </style>\n",
       "      <progress value='0' class='' max='1', style='width:300px; height:20px; vertical-align: middle;'></progress>\n",
       "      0.00% [0/1 00:00<00:00]\n",
       "    </div>\n",
       "    \n",
       "<table border=\"1\" class=\"dataframe\">\n",
       "  <thead>\n",
       "    <tr style=\"text-align: left;\">\n",
       "      <th>epoch</th>\n",
       "      <th>train_loss</th>\n",
       "      <th>valid_loss</th>\n",
       "      <th>accuracy</th>\n",
       "      <th>time</th>\n",
       "    </tr>\n",
       "  </thead>\n",
       "  <tbody>\n",
       "  </tbody>\n",
       "</table><p>\n",
       "\n",
       "    <div>\n",
       "        <style>\n",
       "            /* Turns off some styling */\n",
       "            progress {\n",
       "                /* gets rid of default border in Firefox and Opera. */\n",
       "                border: none;\n",
       "                /* Needs to be in here for Safari polyfill so background images work as expected. */\n",
       "                background-size: auto;\n",
       "            }\n",
       "            .progress-bar-interrupted, .progress-bar-interrupted::-webkit-progress-bar {\n",
       "                background: #F44336;\n",
       "            }\n",
       "        </style>\n",
       "      <progress value='99' class='' max='781', style='width:300px; height:20px; vertical-align: middle;'></progress>\n",
       "      12.68% [99/781 00:10<01:10 2.2498]\n",
       "    </div>\n",
       "    "
      ],
      "text/plain": [
       "<IPython.core.display.HTML object>"
      ]
     },
     "metadata": {},
     "output_type": "display_data"
    },
    {
     "name": "stdout",
     "output_type": "stream",
     "text": [
      "LR Finder is complete, type {learner_name}.recorder.plot() to see the graph.\n"
     ]
    },
    {
     "data": {
      "image/png": "[encoded data removed]",
      "text/plain": [
       "<Figure size 432x288 with 1 Axes>"
      ]
     },
     "metadata": {
      "needs_background": "light"
     },
     "output_type": "display_data"
    }
   ],
   "source": [
    "learn.lr_find()\n",
    "learn.recorder.plot()"
   ]
  },
  {
   "cell_type": "code",
   "execution_count": 76,
   "metadata": {
    "scrolled": true
   },
   "outputs": [
    {
     "data": {
      "text/html": [
       "<table border=\"1\" class=\"dataframe\">\n",
       "  <thead>\n",
       "    <tr style=\"text-align: left;\">\n",
       "      <th>epoch</th>\n",
       "      <th>train_loss</th>\n",
       "      <th>valid_loss</th>\n",
       "      <th>accuracy</th>\n",
       "      <th>time</th>\n",
       "    </tr>\n",
       "  </thead>\n",
       "  <tbody>\n",
       "    <tr>\n",
       "      <td>0</td>\n",
       "      <td>0.144135</td>\n",
       "      <td>0.118151</td>\n",
       "      <td>0.964200</td>\n",
       "      <td>00:28</td>\n",
       "    </tr>\n",
       "  </tbody>\n",
       "</table>"
      ],
      "text/plain": [
       "<IPython.core.display.HTML object>"
      ]
     },
     "metadata": {},
     "output_type": "display_data"
    }
   ],
   "source": [
    "# From the lr_find() plot, we identify lr = 2e-02 to be good. Cos this is where the slope is the steepest (negatively).\n",
    "learn.fit_one_cycle(1, 2e-2)"
   ]
  },
  {
   "cell_type": "markdown",
   "metadata": {},
   "source": [
    "Look at our `valid_loss` by picking a suitable `lr`, and using Fastai's `Learner`'s `fit_one_cycle()`. It's 0.118. When we implemented it ourselves with PyTorch, we are hovering around 0.5 for loss. Fastai's `Learner` ftw."
   ]
  },
  {
   "cell_type": "markdown",
   "metadata": {},
   "source": [
    "### Just what is `fit_one_cycle()`?"
   ]
  },
  {
   "cell_type": "code",
   "execution_count": null,
   "metadata": {},
   "outputs": [
    {
     "data": {
      "image/png": "[encoded data removed]",
      "text/plain": [
       "<Figure size 864x288 with 2 Axes>"
      ]
     },
     "metadata": {
      "needs_background": "light"
     },
     "output_type": "display_data"
    }
   ],
   "source": [
    "learn.recorder.plot_lr(show_moms=True)"
   ]
  },
  {
   "cell_type": "markdown",
   "metadata": {},
   "source": [
    "LHS is plot of learning rate against a particular batch within an epoch. It demonstrates learning rate annealing. \n",
    "- You can see that lr is low at the start of epoch. This is because parameter is initialised to be random, so the parameter space is wild with crazy gradients (bumpy). High lr at start is inadvisable as you will just get thrown around with no real progress.\n",
    "- lr picks up as you move into space where things are less bumpy. And the slopes are more gentle, but they point in the direction that is indeed towards the minima. So lr is increased to reach there faster.\n",
    "- Don't confuse _learning rate annealing_ with _learning rate discrimination_.\n",
    "    - Annealing is to speed up convergence to minima. During annealing, lr varies.\n",
    "    - Discrimination is wrt transfer learning. Earlier layer groups have lower lr than the last layer group. We do this because we start with a pre-trained model (e.g. ImageNet), and the earlier layer groups are tuned to do their jobs (and thus only need minor tweaks), save for the final layer which is untrained, and so necessitates a higher lr to mould the model to fit our needs. Compared to annealing, the lr does not vary within a particular layer group, but they vary spatially across the entire neural network (different layer groups). But temporally static.\n",
    "    \n",
    "RHS is plot of momentum across the same x-axis as LHS. It has the opposite r/s with learning rate. That is, when one is low, the other is high. Here's the explanation given:\n",
    "\n",
    "\"Because I do have a learning small learning rate, but you keep going in the same direction, you may as well go faster. But if you're jumping really far, don't like jump really far because it's going to throw you off. Then as you get to the end again, you're fine tuning in but actually if you keep going the same direction again and again, go faster. So this combination is called one cycle and it's a simple thing but it's astonishing. This can help you get what's called super convergence that can let you train 10 times faster.\"\n",
    "\n",
    "Honestly, I cannot reconcile, intuitively, about the nuances of learning rate and momentum and how they affect the \"jumping over the parameter space\". __But the main thing is, this combo-wombo of the learning rate and momentum is `fit_one_cycle()` and it works.__"
   ]
  },
  {
   "cell_type": "markdown",
   "metadata": {},
   "source": [
    "## fin"
   ]
  },
  {
   "cell_type": "code",
   "execution_count": null,
   "metadata": {},
   "outputs": [],
   "source": []
  }
 ],
 "metadata": {
  "kernelspec": {
   "display_name": "Python [conda env:.conda-fastaii]",
   "language": "python",
   "name": "conda-env-.conda-fastaii-py"
  },
  "language_info": {
   "codemirror_mode": {
    "name": "ipython",
    "version": 3
   },
   "file_extension": ".py",
   "mimetype": "text/x-python",
   "name": "python",
   "nbconvert_exporter": "python",
   "pygments_lexer": "ipython3",
   "version": "3.6.10"
  }
 },
 "nbformat": 4,
 "nbformat_minor": 1
}
